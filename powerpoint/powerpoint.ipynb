{
 "cells": [
  {
   "cell_type": "markdown",
   "source": [
    "R / GGPLOT / POWERPOINT"
   ],
   "metadata": {
    "cell_id": "285909ba797b4308a06713f1671c8d7f",
    "formattedRanges": [],
    "deepnote_app_coordinates": {
     "h": 2,
     "w": 8,
     "x": 0,
     "y": 1
    },
    "deepnote_cell_type": "text-cell-p"
   }
  },
  {
   "cell_type": "markdown",
   "source": [
    "# Making an entire slide with one plot"
   ],
   "metadata": {
    "cell_id": "ba3c1fea6f1e47adbfe986917070201f",
    "formattedRanges": [],
    "deepnote_app_coordinates": {
     "h": 5,
     "w": 12,
     "x": 0,
     "y": 4
    },
    "deepnote_cell_type": "text-cell-h1"
   }
  },
  {
   "cell_type": "markdown",
   "source": [
    "![The finished plot](/work/powerpoint_fig_01.png)"
   ],
   "metadata": {
    "cell_id": "f049e72033364335a91449b0154887e3",
    "deepnote_app_coordinates": {
     "h": 21,
     "w": 12,
     "x": 0,
     "y": 10
    },
    "deepnote_cell_type": "markdown"
   }
  },
  {
   "cell_type": "markdown",
   "source": [
    "> While it might seem convenient to rely on Adobe Illustrator for the finishing touches on a plot and then assemble the export into PowerPoint with additional graphics, annotations, titles, and explanations, the result can be a folder full of files and a complicated update process whenever the underlying data changes. This tutorial explores how a plot might incorporate some of that polish itself, making for slide decks that are easier to build, update, and maintain. "
   ],
   "metadata": {
    "cell_id": "4ef86e79fb814b9880a391390416e84c",
    "formattedRanges": [],
    "deepnote_app_coordinates": {
     "h": 2,
     "w": 8,
     "x": 0,
     "y": 32
    },
    "deepnote_cell_type": "text-cell-callout"
   }
  },
  {
   "cell_type": "markdown",
   "source": [
    "### Tasks to accomplish"
   ],
   "metadata": {
    "cell_id": "15f964ca8ae5474aa75bf761197b34d8",
    "is_collapsed": false,
    "formattedRanges": [],
    "deepnote_app_coordinates": {
     "h": 5,
     "w": 12,
     "x": 0,
     "y": 38
    },
    "deepnote_cell_type": "text-cell-h3"
   }
  },
  {
   "cell_type": "markdown",
   "source": [
    "- Customizing a plot in R. "
   ],
   "metadata": {
    "cell_id": "cafbca0f39eb408181b7a5610a3ff89f",
    "formattedRanges": [],
    "deepnote_app_coordinates": {
     "h": 2,
     "w": 8,
     "x": 0,
     "y": 44
    },
    "deepnote_cell_type": "text-cell-bullet"
   }
  },
  {
   "cell_type": "markdown",
   "source": [
    "- Employing rich text and fonts."
   ],
   "metadata": {
    "cell_id": "bd41bdb2-f359-47f3-91f7-c721b9b8751c",
    "formattedRanges": [],
    "deepnote_app_coordinates": {
     "h": 2,
     "w": 8,
     "x": 0,
     "y": 47
    },
    "deepnote_cell_type": "text-cell-bullet"
   }
  },
  {
   "cell_type": "markdown",
   "source": [
    "- Integrating external graphics."
   ],
   "metadata": {
    "cell_id": "c846f52c-8138-44a5-bf34-e39064c64eb7",
    "formattedRanges": [],
    "deepnote_app_coordinates": {
     "h": 2,
     "w": 8,
     "x": 0,
     "y": 50
    },
    "deepnote_cell_type": "text-cell-bullet"
   }
  },
  {
   "cell_type": "markdown",
   "source": [
    "- Layout of multiple components."
   ],
   "metadata": {
    "cell_id": "c1e146d3-89cf-4cd1-a8b1-243f181ac98f",
    "formattedRanges": [],
    "deepnote_app_coordinates": {
     "h": 2,
     "w": 8,
     "x": 0,
     "y": 53
    },
    "deepnote_cell_type": "text-cell-bullet"
   }
  },
  {
   "cell_type": "markdown",
   "source": [
    "- Generating a final plot of sufficient resolution."
   ],
   "metadata": {
    "cell_id": "d5e508e8-cd2e-4fd4-ad4e-2873a9a568a1",
    "formattedRanges": [],
    "deepnote_app_coordinates": {
     "h": 2,
     "w": 8,
     "x": 0,
     "y": 56
    },
    "deepnote_cell_type": "text-cell-bullet"
   }
  },
  {
   "cell_type": "markdown",
   "source": [],
   "metadata": {
    "cell_id": "5114e5ea75a34504ae5b9382d93dd592",
    "formattedRanges": [],
    "deepnote_app_coordinates": {
     "h": 2,
     "w": 8,
     "x": 0,
     "y": 59
    },
    "deepnote_cell_type": "text-cell-p"
   }
  },
  {
   "cell_type": "markdown",
   "source": [
    "# Building a chart plot"
   ],
   "metadata": {
    "cell_id": "f55a63bdba784c30a735fadadf13dea3",
    "is_collapsed": false,
    "formattedRanges": [],
    "deepnote_app_coordinates": {
     "h": 5,
     "w": 12,
     "x": 0,
     "y": 62
    },
    "deepnote_cell_type": "text-cell-h1"
   }
  },
  {
   "cell_type": "markdown",
   "source": [
    "&nbsp;\n",
    "&nbsp;\n",
    "\n",
    "***NOTE:** Deepnote does not yet support interactivity in a published R notebook. Either click \"View Source\" (if available at the top-right of this webpage) or clone the [the companion R.script](https://github.com/ptrdo/hello-ggplot/blob/main/layout/powerpoint.R).*\n",
    "\n",
    "&nbsp;\n",
    "&nbsp;"
   ],
   "metadata": {
    "cell_id": "3c3369e9b41a4e008a2debdedc883e07",
    "deepnote_app_coordinates": {
     "h": 5,
     "w": 12,
     "x": 0,
     "y": 0
    },
    "deepnote_cell_type": "markdown"
   }
  },
  {
   "cell_type": "markdown",
   "source": [
    "### Basic setup for ggplot"
   ],
   "metadata": {
    "cell_id": "f78c20a0425a4709aff4ec62f6e688b5",
    "is_collapsed": false,
    "formattedRanges": [],
    "deepnote_app_coordinates": {
     "h": 5,
     "w": 12,
     "x": 0,
     "y": 68
    },
    "deepnote_cell_type": "text-cell-h3"
   }
  },
  {
   "cell_type": "markdown",
   "source": [
    "The focus of this tutorial will be the layout and assembly of various items into a single plot, so the data is unimportant. The popular plotting library, ggplot2, will be installed and simple data.frame is created to chart a sine wave. Feel free to run the following cell and tinker with any of the code to see what happens. For example, try alternative themes as suggested in the commenting. Don't worry, the next steps will each start fresh, so tinker away!"
   ],
   "metadata": {
    "cell_id": "1bf26b86bd6e4d839dafdaf278052021",
    "formattedRanges": [
     {
      "url": "https://ggplot2.tidyverse.org/reference/ggplot.html",
      "type": "link",
      "ranges": [
       {
        "type": "marks",
        "marks": {
         "code": true
        },
        "toCodePoint": 7,
        "fromCodePoint": 0
       }
      ],
      "toCodePoint": 161,
      "fromCodePoint": 154
     },
     {
      "type": "marks",
      "marks": {
       "code": true
      },
      "toCodePoint": 202,
      "fromCodePoint": 192
     }
    ],
    "deepnote_app_coordinates": {
     "h": 2,
     "w": 8,
     "x": 0,
     "y": 74
    },
    "deepnote_cell_type": "text-cell-p"
   }
  },
  {
   "cell_type": "code",
   "source": [
    "library(ggplot2)\n",
    "\n",
    "# create some simple data\n",
    "cycles.interval <- pi/64\n",
    "cycles <- seq(0, 4*pi, cycles.interval)\n",
    "waves <- data.frame(Time=cycles, Amplitude=sin(cycles))\n",
    "\n",
    "# choose an underlying theme\n",
    "theme_set(theme_classic())\n",
    "\n",
    "ggplot(waves, aes(Time, Amplitude, colour='sine')) +\n",
    "    geom_path(size=3)\n"
   ],
   "metadata": {
    "cell_id": "d45d0c10c33143fa98c7aaa6d3cc35d2",
    "source_hash": "4a8b2ff9",
    "output_cleared": false,
    "execution_start": 1682633597050,
    "execution_millis": 134,
    "deepnote_app_coordinates": {
     "h": 36,
     "w": 12,
     "x": 0,
     "y": 77
    },
    "deepnote_to_be_reexecuted": false,
    "deepnote_cell_type": "code"
   },
   "outputs": [
    {
     "data": {
      "text/plain": "plot without title",
      "image/png": "[encoded data removed]"
     },
     "metadata": {
      "image/png": {
       "width": 840,
       "height": 840
      }
     },
     "output_type": "display_data"
    }
   ],
   "execution_count": null
  },
  {
   "cell_type": "markdown",
   "source": [],
   "metadata": {
    "cell_id": "ec5e25a46f7e494aa580a077b450a994",
    "formattedRanges": [],
    "deepnote_app_coordinates": {
     "h": 2,
     "w": 8,
     "x": 0,
     "y": 114
    },
    "deepnote_cell_type": "text-cell-p"
   }
  },
  {
   "cell_type": "markdown",
   "source": [
    "### Plotting to an aspect ratio"
   ],
   "metadata": {
    "cell_id": "846d019c328c42b69ab3024c5c6d963a",
    "formattedRanges": [],
    "deepnote_app_coordinates": {
     "h": 5,
     "w": 12,
     "x": 0,
     "y": 117
    },
    "deepnote_cell_type": "text-cell-h3"
   }
  },
  {
   "cell_type": "markdown",
   "source": [
    "By default, ggplot will fill the available area appropriate to the data and type of chart (geom). Also by default, the available area can be constrained by certain aspects of the chart, such as axes, labels, legend, and title. If the chart is expected to share the real estate of a PowerPoint slide, it can be beneficial to establish ground rules for how it should share that space. An aspect ratio is a good start."
   ],
   "metadata": {
    "cell_id": "7e7bb3bd9ff74b8f840a3c0d5ee6bf4d",
    "formattedRanges": [
     {
      "type": "marks",
      "marks": {
       "code": true
      },
      "toCodePoint": 18,
      "fromCodePoint": 12
     },
     {
      "url": "https://ggplot2.tidyverse.org/reference/index.html#geoms",
      "type": "link",
      "ranges": [
       {
        "type": "marks",
        "marks": {
         "code": true
        },
        "toCodePoint": 4,
        "fromCodePoint": 0
       }
      ],
      "toCodePoint": 95,
      "fromCodePoint": 91
     },
     {
      "url": "canva.com/learn/beginners-guide-aspect-ratio/",
      "type": "link",
      "ranges": [],
      "toCodePoint": 398,
      "fromCodePoint": 386
     }
    ],
    "deepnote_app_coordinates": {
     "h": 2,
     "w": 8,
     "x": 0,
     "y": 123
    },
    "deepnote_cell_type": "text-cell-p"
   }
  },
  {
   "cell_type": "markdown",
   "source": [
    "The following code adds a fixed scale coordinate system to the plot via coord_fixed(). The breadth of what's being charted on each axis is calculated and then conformed to fit within a specified aspect ratio. 16/9 is the default aspect ratio of PowerPoint slides. Alternatively, 4/3 is common to old-fashioned cathode-ray television screens. "
   ],
   "metadata": {
    "cell_id": "1b01ea63-68d7-4f29-93f1-35c60e57ff8a",
    "formattedRanges": [
     {
      "url": "https://ggplot2.tidyverse.org/reference/coord_fixed.html",
      "type": "link",
      "ranges": [
       {
        "type": "marks",
        "marks": {
         "code": true
        },
        "toCodePoint": 13,
        "fromCodePoint": 0
       }
      ],
      "toCodePoint": 85,
      "fromCodePoint": 72
     },
     {
      "type": "marks",
      "marks": {
       "code": true
      },
      "toCodePoint": 213,
      "fromCodePoint": 209
     },
     {
      "type": "marks",
      "marks": {
       "code": true
      },
      "toCodePoint": 282,
      "fromCodePoint": 279
     }
    ],
    "deepnote_app_coordinates": {
     "h": 2,
     "w": 8,
     "x": 0,
     "y": 126
    },
    "deepnote_cell_type": "text-cell-p"
   }
  },
  {
   "cell_type": "markdown",
   "source": [
    "To do: Note that plot.background has been given a color to illustrate its boundary. What else is different here than the previous plot? For example, the legend is gone. How was that done? Are there others ways to accomplish this? "
   ],
   "metadata": {
    "cell_id": "712f5d5a-902f-46b8-8482-a9cfe285e89a",
    "formattedRanges": [
     {
      "type": "marks",
      "marks": {
       "bold": true
      },
      "toCodePoint": 7,
      "fromCodePoint": 0
     },
     {
      "type": "marks",
      "marks": {
       "code": true
      },
      "toCodePoint": 32,
      "fromCodePoint": 17
     }
    ],
    "deepnote_app_coordinates": {
     "h": 2,
     "w": 8,
     "x": 0,
     "y": 129
    },
    "deepnote_cell_type": "text-cell-p"
   }
  },
  {
   "cell_type": "code",
   "source": [
    "library(ggplot2)\n",
    "\n",
    "# create some simple data\n",
    "cycles.interval <- pi/64\n",
    "cycles <- seq(0, 4*pi, cycles.interval)\n",
    "waves <- data.frame(Time=cycles, Amplitude=sin(cycles))\n",
    "\n",
    "# chose an underlying theme\n",
    "theme_set(theme_light())\n",
    "\n",
    "# set an aspect ratio\n",
    "ratio.aspect <- 16/9\n",
    "ratio.breadth <- (max(waves$Time)-min(waves$Time))/(max(waves$Amplitude)-min(waves$Amplitude))\n",
    "\n",
    "ggplot(waves, aes(Time, Amplitude, colour=Amplitude)) +\n",
    "    coord_fixed(ratio.breadth / ratio.aspect) +\n",
    "    geom_path(size=2,lineend='round') +\n",
    "    theme(\n",
    "        plot.margin=margin(3,3,2,2,'lines'),\n",
    "        plot.background=element_rect(fill='cornsilk'),\n",
    "        panel.background=element_rect(fill='ivory'),\n",
    "        legend.position='NONE'\n",
    "    )"
   ],
   "metadata": {
    "cell_id": "6135e01427b5497fb62817fbf7db07f9",
    "source_hash": "c73a5c29",
    "output_cleared": false,
    "execution_start": 1682366091986,
    "execution_millis": 565,
    "deepnote_app_coordinates": {
     "h": 43,
     "w": 12,
     "x": 0,
     "y": 132
    },
    "deepnote_to_be_reexecuted": false,
    "deepnote_cell_type": "code"
   },
   "outputs": [
    {
     "data": {
      "text/plain": "plot without title",
      "image/png": "[encoded data removed]"
     },
     "metadata": {
      "image/png": {
       "width": 840,
       "height": 840
      }
     },
     "output_type": "display_data"
    }
   ],
   "execution_count": null
  },
  {
   "cell_type": "markdown",
   "source": [],
   "metadata": {
    "cell_id": "19dd00a4bb8c4321b2985908b2f33d72",
    "formattedRanges": [],
    "deepnote_app_coordinates": {
     "h": 2,
     "w": 8,
     "x": 0,
     "y": 176
    },
    "deepnote_cell_type": "text-cell-p"
   }
  },
  {
   "cell_type": "markdown",
   "source": [
    "### Customizing the labeling"
   ],
   "metadata": {
    "cell_id": "3815226ff66546a9be08d41a6c56a139",
    "formattedRanges": [],
    "deepnote_app_coordinates": {
     "h": 5,
     "w": 12,
     "x": 0,
     "y": 179
    },
    "deepnote_cell_type": "text-cell-h3"
   }
  },
  {
   "cell_type": "markdown",
   "source": [
    "A PowerPoint presentation is usually viewed from across a room while the presenter is busy trying to gain attention and talk about the big picture. Therefore, it might not be necessary to show a chart with exquisite detail that could serve as a distraction, is barely visible, and is being explained anyway. Anything that isn't helping the chart could be removed for the extra space, and the extra room could definitely be used for well-placed words that will assist the presentation. "
   ],
   "metadata": {
    "cell_id": "1de67042fae44bd5b6674b406fe9fbac",
    "formattedRanges": [],
    "deepnote_app_coordinates": {
     "h": 2,
     "w": 8,
     "x": 0,
     "y": 185
    },
    "deepnote_cell_type": "text-cell-p"
   }
  },
  {
   "cell_type": "markdown",
   "source": [
    "The following code plots the same chart as before but with the addition of an annotate() and geom_segment() to describe a pretend threshold of \"feels like Spring.\"  Comments in the ggplot show where another annotation and segment belong for when it \"feels like Winter.\" Add those. "
   ],
   "metadata": {
    "cell_id": "fece8057-b42a-4db0-bc84-7b6f9d273a32",
    "formattedRanges": [
     {
      "type": "marks",
      "marks": {
       "code": true
      },
      "toCodePoint": 88,
      "fromCodePoint": 78
     },
     {
      "type": "marks",
      "marks": {
       "code": true
      },
      "toCodePoint": 107,
      "fromCodePoint": 93
     },
     {
      "type": "marks",
      "marks": {
       "italic": true
      },
      "toCodePoint": 162,
      "fromCodePoint": 161
     },
     {
      "type": "marks",
      "marks": {
       "code": true
      },
      "toCodePoint": 187,
      "fromCodePoint": 181
     }
    ],
    "deepnote_app_coordinates": {
     "h": 2,
     "w": 8,
     "x": 0,
     "y": 188
    },
    "deepnote_cell_type": "text-cell-p"
   }
  },
  {
   "cell_type": "markdown",
   "source": [
    "To do: Neither axis title is needed for the end result. Also not needed is the y-axis labels, the tick marks,  or grid lines. Each of these could be removed individually, but is there a way they could all be removed at once? (see Hint 1). What's left to remove? How can those be removed too? (see Hint 2). One thing needed are the x-axis labels (see Hint 3). Note how putting one thing back is a lot easier than taking everything else away. "
   ],
   "metadata": {
    "cell_id": "2a42dcf0-1c4a-4391-8ed8-666739d572a7",
    "formattedRanges": [
     {
      "type": "marks",
      "marks": {
       "bold": true
      },
      "toCodePoint": 7,
      "fromCodePoint": 0
     },
     {
      "type": "marks",
      "marks": {
       "italic": true
      },
      "toCodePoint": 230,
      "fromCodePoint": 226
     },
     {
      "type": "marks",
      "marks": {
       "italic": true
      },
      "toCodePoint": 296,
      "fromCodePoint": 293
     },
     {
      "type": "marks",
      "marks": {
       "italic": true
      },
      "toCodePoint": 349,
      "fromCodePoint": 346
     }
    ],
    "deepnote_app_coordinates": {
     "h": 2,
     "w": 8,
     "x": 0,
     "y": 191
    },
    "deepnote_cell_type": "text-cell-p"
   }
  },
  {
   "cell_type": "markdown",
   "source": [
    "undefined. Hint: theme_set(theme_void())"
   ],
   "metadata": {
    "cell_id": "207c061b30494f84810173026bc71b86",
    "formattedRanges": [
     {
      "type": "marks",
      "marks": {
       "code": true
      },
      "toCodePoint": 29,
      "fromCodePoint": 6
     }
    ],
    "deepnote_app_coordinates": {
     "h": 2,
     "w": 8,
     "x": 0,
     "y": 194
    },
    "deepnote_cell_type": "text-cell-number"
   }
  },
  {
   "cell_type": "markdown",
   "source": [
    "undefined. Hint: (fill='ivory',color='transparent') This fix is needed for plot.background too!"
   ],
   "metadata": {
    "cell_id": "c73c9172-4fec-45f5-8231-ba5131ecd7a7",
    "formattedRanges": [
     {
      "type": "marks",
      "marks": {
       "code": true
      },
      "toCodePoint": 40,
      "fromCodePoint": 6
     },
     {
      "type": "marks",
      "marks": {
       "italic": true
      },
      "toCodePoint": 64,
      "fromCodePoint": 41
     },
     {
      "type": "marks",
      "marks": {
       "code": true
      },
      "toCodePoint": 79,
      "fromCodePoint": 64
     },
     {
      "type": "marks",
      "marks": {
       "italic": true
      },
      "toCodePoint": 84,
      "fromCodePoint": 79
     }
    ],
    "deepnote_app_coordinates": {
     "h": 2,
     "w": 8,
     "x": 0,
     "y": 197
    },
    "deepnote_cell_type": "text-cell-number"
   }
  },
  {
   "cell_type": "markdown",
   "source": [
    "undefined. Hint: axis.text=element_text(color='black')"
   ],
   "metadata": {
    "cell_id": "077e0567-6678-4250-84e0-2b07ae74d86d",
    "formattedRanges": [
     {
      "type": "marks",
      "marks": {
       "code": true
      },
      "toCodePoint": 43,
      "fromCodePoint": 6
     }
    ],
    "deepnote_app_coordinates": {
     "h": 2,
     "w": 8,
     "x": 0,
     "y": 200
    },
    "deepnote_cell_type": "text-cell-number"
   }
  },
  {
   "cell_type": "code",
   "source": [
    "library(ggplot2)\n",
    "\n",
    "# create some simple data\n",
    "cycles.interval <- pi/64\n",
    "cycles <- seq(0, 4*pi, cycles.interval)\n",
    "waves <- data.frame(Time=cycles, Amplitude=sin(cycles))\n",
    "\n",
    "# chose an underlying theme\n",
    "theme_set(theme_light()) \n",
    "\n",
    "# set an aspect ratio\n",
    "ratio.aspect <- 16/9\n",
    "ratio.breadth <- (max(waves$Time)-min(waves$Time))/(max(waves$Amplitude)-min(waves$Amplitude))\n",
    "\n",
    "ggplot(waves, aes(Time, Amplitude, colour=Amplitude)) +\n",
    "    coord_fixed(ratio.breadth / ratio.aspect) +\n",
    "    geom_segment(x=-2, xend=14, y=.6, yend=.6, size=0.1, color='red') +\n",
    "    # add another geom_segment here at y=-.6\n",
    "    geom_path(size=2,lineend='round') +\n",
    "    annotate('text', label='feels like Spring', x=13, y=.7, hjust=1, color='black') +\n",
    "    # add another annotate here at x=-.3, y=-.7 saying 'feels like Winter' \n",
    "    scale_x_continuous(breaks=c(0,4,8,12),labels=c('FEB','MAR','APR','MAY')) +\n",
    "    theme(\n",
    "        plot.margin=margin(3,3,3,3,'lines'),\n",
    "        plot.background=element_rect(fill='cornsilk'),\n",
    "        panel.background=element_rect(fill='ivory'),\n",
    "        legend.position='NONE'\n",
    "    )"
   ],
   "metadata": {
    "cell_id": "d53088a96a4f42c0929c527c8480c7f9",
    "source_hash": "7881d8ce",
    "output_cleared": false,
    "execution_start": 1682362109427,
    "execution_millis": 199,
    "deepnote_app_coordinates": {
     "h": 46,
     "w": 12,
     "x": 0,
     "y": 203
    },
    "deepnote_to_be_reexecuted": false,
    "deepnote_cell_type": "code"
   },
   "outputs": [
    {
     "data": {
      "text/plain": "plot without title",
      "image/png": "[encoded data removed]"
     },
     "metadata": {
      "image/png": {
       "width": 840,
       "height": 840
      }
     },
     "output_type": "display_data"
    }
   ],
   "execution_count": null
  },
  {
   "cell_type": "markdown",
   "source": [],
   "metadata": {
    "cell_id": "364684553833472298f424e85d18912f",
    "formattedRanges": [],
    "deepnote_app_coordinates": {
     "h": 2,
     "w": 8,
     "x": 0,
     "y": 250
    },
    "deepnote_cell_type": "text-cell-p"
   }
  },
  {
   "cell_type": "markdown",
   "source": [
    "### Employing special fonts"
   ],
   "metadata": {
    "cell_id": "7ff30768ff8d45ecb9b7e1897ec053dc",
    "formattedRanges": [],
    "deepnote_app_coordinates": {
     "h": 5,
     "w": 12,
     "x": 0,
     "y": 253
    },
    "deepnote_cell_type": "text-cell-h3"
   }
  },
  {
   "cell_type": "markdown",
   "source": [
    "By default, ggplot will use a standard sans-serif font. The precise characteristics of this font might vary slightly given the device and environment where the plot is being rendered, but are generic enough to assure predictable results. However, when preparing graphics for a PowerPoint presentation, more sophistication can be required to enhance the legibility of the text and coordinate its style with the slide template and brand guidelines. "
   ],
   "metadata": {
    "cell_id": "fdc2fc62824c4c26a4d2b868cb3e9aab",
    "formattedRanges": [
     {
      "type": "marks",
      "marks": {
       "code": true
      },
      "toCodePoint": 18,
      "fromCodePoint": 12
     },
     {
      "url": "https://fonts.google.com/knowledge/glossary/sans_serif",
      "type": "link",
      "ranges": [],
      "toCodePoint": 54,
      "fromCodePoint": 39
     }
    ],
    "deepnote_app_coordinates": {
     "h": 2,
     "w": 8,
     "x": 0,
     "y": 259
    },
    "deepnote_cell_type": "text-cell-p"
   }
  },
  {
   "cell_type": "markdown",
   "source": [
    "Fortunately, a library named showtext is available to load fonts from a vast collection available via Google Fonts. This provides for loading fonts from the local system or via font_add_google. Note that when this font management system is enforced with  showtext_auto() the appearance all fonts will be affected, even those not styled with a particular font. Note, for instance, what happens to the annotations (which are purposely independent from general styling). "
   ],
   "metadata": {
    "cell_id": "4377966c-2a98-4eba-990a-1276327b54e7",
    "formattedRanges": [
     {
      "url": "https://cran.rstudio.com/web/packages/showtext/vignettes/introduction.html",
      "type": "link",
      "ranges": [],
      "toCodePoint": 37,
      "fromCodePoint": 29
     },
     {
      "url": "https://fonts.google.com/",
      "type": "link",
      "ranges": [],
      "toCodePoint": 114,
      "fromCodePoint": 102
     },
     {
      "type": "marks",
      "marks": {
       "code": true
      },
      "toCodePoint": 192,
      "fromCodePoint": 177
     },
     {
      "type": "marks",
      "marks": {
       "code": true
      },
      "toCodePoint": 270,
      "fromCodePoint": 255
     }
    ],
    "deepnote_app_coordinates": {
     "h": 2,
     "w": 8,
     "x": 0,
     "y": 262
    },
    "deepnote_cell_type": "text-cell-p"
   }
  },
  {
   "cell_type": "markdown",
   "source": [
    "- To Do: Try other fonts available at Google Fonts. How might a particular weight of font (e/g \"Thin\" or \"Black\") be imported as the default? The next step shows how. "
   ],
   "metadata": {
    "cell_id": "8e0e91f27c0b4e1a8ab3611f45b70d85",
    "formattedRanges": [
     {
      "type": "marks",
      "marks": {
       "bold": true
      },
      "toCodePoint": 7,
      "fromCodePoint": 0
     },
     {
      "url": "http://fonts.google.com",
      "type": "link",
      "ranges": [],
      "toCodePoint": 48,
      "fromCodePoint": 36
     }
    ],
    "deepnote_app_coordinates": {
     "h": 2,
     "w": 8,
     "x": 0,
     "y": 0
    },
    "deepnote_cell_type": "text-cell-bullet"
   }
  },
  {
   "cell_type": "code",
   "source": [
    "# install.packages('showtext')\n",
    "\n",
    "library(showtext)\n",
    "library(ggplot2)\n",
    "\n",
    "# create some simple data\n",
    "cycles.interval <- pi/64\n",
    "cycles <- seq(0, 4*pi, cycles.interval)\n",
    "waves <- data.frame(Time=cycles, Amplitude=sin(cycles))\n",
    "\n",
    "# load the special font\n",
    "font_add_google(name='Playfair Display', family='playfair') \n",
    "\n",
    "# chose an underlying theme PLUS special font\n",
    "theme_set(theme_void(base_family='playfair', base_size=20))\n",
    "\n",
    "# give font rendering to showtext\n",
    "showtext_auto(T)\n",
    "\n",
    "# set an aspect ratio\n",
    "ratio.aspect <- 16/9\n",
    "ratio.breadth <- (max(waves$Time)-min(waves$Time))/(max(waves$Amplitude)-min(waves$Amplitude))\n",
    "\n",
    "ggplot(waves, aes(Time, Amplitude, colour=Amplitude)) +\n",
    "    coord_fixed(ratio.breadth / ratio.aspect) +\n",
    "    ggtitle('The change of seasons is not a date certain') +\n",
    "    geom_segment(x=-2, xend=14, y=.6, yend=.6, size=0.1, color='deepskyblue') +\n",
    "    geom_segment(x=-2, xend=14, y=-.6, yend=-.6, size=0.1, color='black') +\n",
    "    geom_path(size=2,lineend='round') +\n",
    "    annotate('text', label='feels like Spring', x=13, y=.7, hjust=1, color='black') +\n",
    "    annotate('text', label='feels like Winter', x=-.3, y=-.7, hjust=0, color='black') +\n",
    "    scale_x_continuous(breaks=c(0,4,8,12),labels=c('FEB','MAR','APR','MAY')) +\n",
    "    theme(\n",
    "        plot.margin=margin(3,3,3,3,'lines'),\n",
    "        plot.background=element_rect(fill='cornsilk', color='transparent'),\n",
    "        panel.background=element_rect(fill='ivory', color='transparent'),\n",
    "        legend.position='NONE',\n",
    "        axis.text.x=element_text(color='black')\n",
    "    )\n",
    "\n",
    "# return font rendering to normal\n",
    "showtext_auto(F)"
   ],
   "metadata": {
    "cell_id": "c74790d24516413c9f03f870f8192468",
    "source_hash": "143b6e88",
    "output_cleared": false,
    "execution_start": 1682717978374,
    "execution_millis": 1084,
    "deepnote_app_coordinates": {
     "h": 56,
     "w": 12,
     "x": 0,
     "y": 265
    },
    "deepnote_to_be_reexecuted": false,
    "deepnote_cell_type": "code"
   },
   "outputs": [
    {
     "data": {
      "text/plain": "plot without title",
      "image/png": "[encoded data removed]"
     },
     "metadata": {
      "image/png": {
       "width": 840,
       "height": 840
      }
     },
     "output_type": "display_data"
    }
   ],
   "execution_count": 2
  },
  {
   "cell_type": "markdown",
   "source": [],
   "metadata": {
    "cell_id": "f1f64feaebb94d1a8fb0aa915774d622",
    "formattedRanges": [],
    "deepnote_app_coordinates": {
     "h": 2,
     "w": 8,
     "x": 0,
     "y": 322
    },
    "deepnote_cell_type": "text-cell-p"
   }
  },
  {
   "cell_type": "markdown",
   "source": [
    "### Preparing the chart for assembly"
   ],
   "metadata": {
    "cell_id": "840ab8a3f6874436b2093dfdffc9de5c",
    "formattedRanges": [],
    "deepnote_app_coordinates": {
     "h": 5,
     "w": 12,
     "x": 0,
     "y": 325
    },
    "deepnote_cell_type": "text-cell-h3"
   }
  },
  {
   "cell_type": "markdown",
   "source": [
    "In a few steps, this chart will be combined with a plotted text block and yet another plot containing a copyright clause and logo. Therefore, any extraneous padding and margins should be removed here so the eventual assembly can add or manage that where it matters most. The following code removes the chart's ggtitle (which will become the assembly title), and eliminates the plot.margin around the chart. For now, the plot.background coloring will remain to assist in visualizing how the individual components abut each other. "
   ],
   "metadata": {
    "cell_id": "b5e9c34d4833404d8323de4e2c0266a7",
    "formattedRanges": [
     {
      "type": "marks",
      "marks": {
       "code": true
      },
      "toCodePoint": 317,
      "fromCodePoint": 310
     },
     {
      "type": "marks",
      "marks": {
       "code": true
      },
      "toCodePoint": 388,
      "fromCodePoint": 377
     },
     {
      "type": "marks",
      "marks": {
       "code": true
      },
      "toCodePoint": 435,
      "fromCodePoint": 420
     }
    ],
    "deepnote_app_coordinates": {
     "h": 2,
     "w": 8,
     "x": 0,
     "y": 331
    },
    "deepnote_cell_type": "text-cell-p"
   }
  },
  {
   "cell_type": "markdown",
   "source": [
    "- To Do: Note the differences here from the previous code block. For instance, there are now two fonts being loaded, and one has been designated to be a certain weight, regular.wt=200. Note also how the ggplot is being stored to a variable, chartplot which will next become one of the components of the final assembly."
   ],
   "metadata": {
    "cell_id": "29787e9ec63b45ddab90bff8bd1f9c9e",
    "formattedRanges": [
     {
      "type": "marks",
      "marks": {
       "bold": true
      },
      "toCodePoint": 6,
      "fromCodePoint": 0
     },
     {
      "type": "marks",
      "marks": {
       "code": true
      },
      "toCodePoint": 181,
      "fromCodePoint": 167
     },
     {
      "type": "marks",
      "marks": {
       "code": true
      },
      "toCodePoint": 207,
      "fromCodePoint": 201
     },
     {
      "type": "marks",
      "marks": {
       "code": true
      },
      "toCodePoint": 248,
      "fromCodePoint": 239
     }
    ],
    "deepnote_app_coordinates": {
     "h": 2,
     "w": 8,
     "x": 0,
     "y": 334
    },
    "deepnote_cell_type": "text-cell-bullet"
   }
  },
  {
   "cell_type": "code",
   "source": [
    "# install.packages('showtext')\n",
    "\n",
    "library(showtext)\n",
    "library(ggplot2)\n",
    "\n",
    "# create some simple data\n",
    "cycles.interval <- pi/8\n",
    "cycles <- seq(0,4*pi,cycles.interval)\n",
    "waves <- data.frame(Time=cycles, Amplitude=sin(cycles))\n",
    "\n",
    "# interpolate values with splines\n",
    "cycles.interval.new <- pi/64\n",
    "cycles.interpolate <- seq(0, 4*pi, cycles.interval.new)\n",
    "weight <- splinefun(waves)\n",
    "waves.spline <- data.frame(Time=cycles.interpolate, Amplitude=weight(cycles.interpolate))\n",
    "\n",
    "# load the special font\n",
    "font_add_google(name='Playfair Display', family='playfair') \n",
    "font_add_google(name='IBM Plex Sans', family='plexsans',regular.wt=200)\n",
    "\n",
    "# chose an underlying theme PLUS special font\n",
    "theme_set(theme_void(base_family='playfair', base_size=16))\n",
    "\n",
    "# give font rendering to showtext\n",
    "showtext_auto(T)\n",
    "\n",
    "# set an aspect ratio\n",
    "ratio.aspect <- 16/9\n",
    "ratio.breadth <- (max(waves$Time)-min(waves$Time))/(max(waves$Amplitude)-min(waves$Amplitude))\n",
    "\n",
    "# plot the data\n",
    "chartplot <- ggplot(waves.spline, aes(Time, Amplitude, size=Amplitude, colour=Amplitude)) + \n",
    "    coord_fixed(ratio.breadth / ratio.aspect) +\n",
    "    # ggtitle('The change of seasons is not a date certain') +\n",
    "    geom_segment(x=-2, xend=14, y=.6, yend=.6, size=0.2, color='steelblue', linetype=3) +\n",
    "    geom_segment(x=-2, xend=14, y=-.6, yend=-.6, size=0.2, color='steelblue', linetype=3) +\n",
    "    geom_path(lineend='round') +\n",
    "    annotate('text',label='feels like Spring',x=13,y=.7,hjust=1,color='steelblue',family='plexsans',size=6) +\n",
    "    annotate('text',label='feels like Winter',x=-.5,y=-.7,hjust=0,color='steelblue',family='plexsans',size=6) +\n",
    "    scale_x_continuous(breaks=c(0,4,8,12),labels=c('FEB','MAR','APR','MAY')) +\n",
    "    scale_y_discrete(expand=c(.1,-.05)) +\n",
    "    theme(\n",
    "        plot.background=element_rect(fill='cornsilk', color='grey'),\n",
    "        axis.text.x=element_text(color='black'),\n",
    "        legend.position='NONE'\n",
    "    )\n",
    "\n",
    "# view the plot\n",
    "# chartplot\n",
    "\n",
    "# return font rendering to normal\n",
    "showtext_auto(F)\n",
    "\n",
    "    "
   ],
   "metadata": {
    "cell_id": "ba685e28f2ea498a98f4974b16e2ee1e",
    "source_hash": "6800100a",
    "output_cleared": true,
    "execution_start": 1682720725355,
    "execution_millis": 1668,
    "deepnote_app_coordinates": {
     "h": 63,
     "w": 12,
     "x": 0,
     "y": 337
    },
    "deepnote_to_be_reexecuted": false,
    "deepnote_cell_type": "code"
   },
   "outputs": [],
   "execution_count": 5
  },
  {
   "cell_type": "markdown",
   "source": [
    "![The chart is ready for assembly](/work/powerpoint_fig_02.png)"
   ],
   "metadata": {
    "cell_id": "3592323be19045a687cd84dde7ddad01",
    "deepnote_app_coordinates": {
     "h": 5,
     "w": 12,
     "x": 0,
     "y": 0
    },
    "deepnote_cell_type": "markdown"
   }
  },
  {
   "cell_type": "markdown",
   "source": [],
   "metadata": {
    "cell_id": "75b3ef118b2a4c318d800992f5883f9a",
    "formattedRanges": [],
    "deepnote_app_coordinates": {
     "h": 2,
     "w": 8,
     "x": 0,
     "y": 401
    },
    "deepnote_cell_type": "text-cell-p"
   }
  },
  {
   "cell_type": "markdown",
   "source": [
    "# Building a rich text plot"
   ],
   "metadata": {
    "cell_id": "2a61bb166d8148e1ac67bc31911466f5",
    "is_collapsed": false,
    "formattedRanges": [],
    "deepnote_app_coordinates": {
     "h": 5,
     "w": 12,
     "x": 0,
     "y": 404
    },
    "deepnote_cell_type": "text-cell-h1"
   }
  },
  {
   "cell_type": "markdown",
   "source": [
    "### Basic setup for ggtext"
   ],
   "metadata": {
    "cell_id": "a6294408d6cb480a9e42d1c8f0c39c61",
    "formattedRanges": [],
    "deepnote_app_coordinates": {
     "h": 5,
     "w": 12,
     "x": 0,
     "y": 410
    },
    "deepnote_cell_type": "text-cell-h3"
   }
  },
  {
   "cell_type": "markdown",
   "source": [
    "A block of text can be charted just as data can. Annotations work too, but when assembling various plots to a single layout, an independent block of text might afford more freedom for positioning. This methodology can also facilitate having a lot of text as an external resource that can be easily edited elsewhere and then imported when plotted. "
   ],
   "metadata": {
    "cell_id": "727f3410ee884f96ba0385937f6f7444",
    "formattedRanges": [],
    "deepnote_app_coordinates": {
     "h": 2,
     "w": 8,
     "x": 0,
     "y": 416
    },
    "deepnote_cell_type": "text-cell-p"
   }
  },
  {
   "cell_type": "markdown",
   "source": [
    "The ggtext library provides many features for implementing text within a plot, including support for Markdown formatting. Some syntax is yet to be supported, but relatively simple blocks of text should be possible. In the example below, a vector of strings help to format multiple lines of text, then a paste assembles them with a <br> separator. More convenient results might be possible by importing an external document formatted in Markdown. "
   ],
   "metadata": {
    "cell_id": "4810262a-7f35-456a-9c39-a47289e89c2b",
    "formattedRanges": [
     {
      "url": "https://wilkelab.org/ggtext/",
      "type": "link",
      "ranges": [
       {
        "type": "marks",
        "marks": {
         "code": true
        },
        "toCodePoint": 6,
        "fromCodePoint": 0
       }
      ],
      "toCodePoint": 10,
      "fromCodePoint": 4
     },
     {
      "url": "https://www.markdownguide.org/cheat-sheet/",
      "type": "link",
      "ranges": [],
      "toCodePoint": 120,
      "fromCodePoint": 101
     },
     {
      "type": "marks",
      "marks": {
       "code": true
      },
      "toCodePoint": 308,
      "fromCodePoint": 303
     },
     {
      "type": "marks",
      "marks": {
       "code": true
      },
      "toCodePoint": 335,
      "fromCodePoint": 331
     }
    ],
    "deepnote_app_coordinates": {
     "h": 2,
     "w": 8,
     "x": 0,
     "y": 416
    },
    "deepnote_cell_type": "text-cell-p"
   }
  },
  {
   "cell_type": "markdown",
   "source": [
    "- To Do: As done with the chart in earlier steps, this plot will become one component of an assembly, so the axis labels and titles should be removed. Recall that a theme_set may be easier for this than styling each individual element. It will also be handy to stylize the plot.background element so that the boundary of this component can assist the final layout. "
   ],
   "metadata": {
    "cell_id": "95d04f81cea24be6bb4fe0bf1b6fc04d",
    "formattedRanges": [
     {
      "type": "marks",
      "marks": {
       "bold": true
      },
      "toCodePoint": 7,
      "fromCodePoint": 0
     },
     {
      "type": "marks",
      "marks": {
       "code": true
      },
      "toCodePoint": 172,
      "fromCodePoint": 163
     },
     {
      "type": "marks",
      "marks": {
       "code": true
      },
      "toCodePoint": 286,
      "fromCodePoint": 271
     }
    ],
    "deepnote_app_coordinates": {
     "h": 2,
     "w": 8,
     "x": 0,
     "y": 0
    },
    "deepnote_cell_type": "text-cell-bullet"
   }
  },
  {
   "cell_type": "code",
   "source": [
    "# install.packages('showtext')\n",
    "# install.packages('ggtext')\n",
    "\n",
    "library(showtext)\n",
    "library(ggtext)\n",
    "library(ggplot2)\n",
    "\n",
    "# load the special font\n",
    "font_add_google(name='IBM Plex Sans', family='plexsans',regular.wt=300) \n",
    "\n",
    "# chose an underlying theme PLUS special font\n",
    "theme_set(theme_minimal())\n",
    "\n",
    "# give font rendering to showtext\n",
    "showtext_auto(T)\n",
    "\n",
    "# write some text\n",
    "richtext <- c(\n",
    "    'It\\'s important to note that the timing and duration of seasonal transitions can also be influence by...',\n",
    "    '*',\n",
    "    '• natural variability,',\n",
    "    '• weather patterns, and',\n",
    "    '• climate change.',\n",
    "    '*',\n",
    "    'In recent years, some regions have experienced more erratic or unpredictable seasonal transitions **due to changing climatic conditions.**'\n",
    ") \n",
    "\n",
    "markdown <- paste0(richtext, collapse='<br>')\n",
    "\n",
    "textplot <- ggplot() +\n",
    "  coord_fixed(1) +\n",
    "  geom_textbox(\n",
    "    aes(x=0, y=0, label=markdown), \n",
    "    width=1,\n",
    "    color='black', \n",
    "    size=unit(7.5,'pt'), \n",
    "    family='plexsans',\n",
    "    lineheight=unit(1,'lines'),\n",
    "    box.padding=unit(2,'lines')\n",
    "  )\n",
    "  \n",
    "# view the plot\n",
    "textplot\n",
    "\n",
    "# return font rendering to normal\n",
    "showtext_auto(F)"
   ],
   "metadata": {
    "cell_id": "6af53650c85943089383b59900534364",
    "source_hash": "fa246d1e",
    "execution_start": 1682695351746,
    "execution_millis": 1110,
    "deepnote_app_coordinates": {
     "h": 55,
     "w": 12,
     "x": 0,
     "y": 419
    },
    "deepnote_to_be_reexecuted": false,
    "deepnote_cell_type": "code"
   },
   "outputs": [
    {
     "data": {
      "text/plain": "plot without title",
      "image/png": "[encoded data removed]"
     },
     "metadata": {
      "image/png": {
       "width": 840,
       "height": 840
      }
     },
     "output_type": "display_data"
    }
   ],
   "execution_count": null
  },
  {
   "cell_type": "markdown",
   "source": [
    "### Preparing the text for assembly"
   ],
   "metadata": {
    "cell_id": "b63d05aee0d9465494642b36634665c2",
    "formattedRanges": [],
    "deepnote_app_coordinates": {
     "h": 5,
     "w": 12,
     "x": 0,
     "y": 475
    },
    "deepnote_cell_type": "text-cell-h3"
   }
  },
  {
   "cell_type": "markdown",
   "source": [
    "The code block below is what's required to plot the text that will be assembled with the chartplot from previous steps. The plot.background has been colored with a fill and border to help assist with aligning the assembly components. The richtext Markdown has been simplified for simplicity sake. "
   ],
   "metadata": {
    "cell_id": "be16986e26264dccba5a455b3bdba2c6",
    "formattedRanges": [
     {
      "type": "marks",
      "marks": {
       "code": true
      },
      "toCodePoint": 98,
      "fromCodePoint": 89
     },
     {
      "type": "marks",
      "marks": {
       "code": true
      },
      "toCodePoint": 139,
      "fromCodePoint": 124
     },
     {
      "type": "marks",
      "marks": {
       "code": true
      },
      "toCodePoint": 246,
      "fromCodePoint": 238
     }
    ],
    "deepnote_app_coordinates": {
     "h": 2,
     "w": 8,
     "x": 0,
     "y": 481
    },
    "deepnote_cell_type": "text-cell-p"
   }
  },
  {
   "cell_type": "markdown",
   "source": [
    "As this textplot is combined with the chartplot and the layout is finalized, it may be necessary to return to this plot and fine tune parameters such as the font size and lineheight (also known as leading). In this regard, it can be helpful to use values that are most-often associated with fonts, such as pt (points) for size and lines for lineheight. "
   ],
   "metadata": {
    "cell_id": "e90d0eff-5e87-4e63-bebe-4f52e36985ba",
    "formattedRanges": [
     {
      "type": "marks",
      "marks": {
       "code": true
      },
      "toCodePoint": 16,
      "fromCodePoint": 8
     },
     {
      "type": "marks",
      "marks": {
       "code": true
      },
      "toCodePoint": 47,
      "fromCodePoint": 38
     },
     {
      "url": "https://en.wikipedia.org/wiki/Leading",
      "type": "link",
      "ranges": [],
      "toCodePoint": 204,
      "fromCodePoint": 197
     },
     {
      "type": "marks",
      "marks": {
       "code": true
      },
      "toCodePoint": 308,
      "fromCodePoint": 306
     },
     {
      "type": "marks",
      "marks": {
       "code": true
      },
      "toCodePoint": 326,
      "fromCodePoint": 322
     },
     {
      "type": "marks",
      "marks": {
       "code": true
      },
      "toCodePoint": 336,
      "fromCodePoint": 331
     },
     {
      "type": "marks",
      "marks": {
       "code": true
      },
      "toCodePoint": 351,
      "fromCodePoint": 341
     }
    ],
    "deepnote_app_coordinates": {
     "h": 2,
     "w": 8,
     "x": 0,
     "y": 481
    },
    "deepnote_cell_type": "text-cell-p"
   }
  },
  {
   "cell_type": "markdown",
   "source": [
    "- To Do: In anticipation of fine tuning the text block, practice various adjustments to the font parameters. "
   ],
   "metadata": {
    "cell_id": "0dfe0737d6c14521a1ea0f5ba6670baa",
    "formattedRanges": [
     {
      "type": "marks",
      "marks": {
       "bold": true
      },
      "toCodePoint": 7,
      "fromCodePoint": 0
     }
    ],
    "deepnote_app_coordinates": {
     "h": 2,
     "w": 8,
     "x": 0,
     "y": 0
    },
    "deepnote_cell_type": "text-cell-bullet"
   }
  },
  {
   "cell_type": "code",
   "source": [
    "# install.packages('showtext')\n",
    "# install.packages('ggtext')\n",
    "\n",
    "library(showtext)\n",
    "library(ggtext)\n",
    "library(ggplot2)\n",
    "\n",
    "# load the special font\n",
    "font_add_google(name='IBM Plex Sans', family='plexsans',regular.wt=300) \n",
    "\n",
    "# chose an underlying theme PLUS special font\n",
    "theme_set(theme_void())\n",
    "\n",
    "# give font rendering to showtext\n",
    "showtext_auto(T)\n",
    "\n",
    "# write some text\n",
    "richtext <- 'It\\'s important to note that the timing and duration of seasonal transitions can also be influenced by *natural variability, weather patterns, and climate change.* In recent years, some regions have experienced more erratic or unpredictable seasonal transitions **due to changing climatic conditions**.'\n",
    "\n",
    "textplot <- ggplot() +\n",
    "  coord_fixed(1) +\n",
    "  geom_textbox(\n",
    "    aes(x=0, y=0, label=richtext, box.colour='goldenrod'), \n",
    "    fill='lemonchiffon',\n",
    "    width=1,\n",
    "    color='black', \n",
    "    size=unit(6,'pt'), \n",
    "    family='plexsans',\n",
    "    lineheight=unit(1.5,'lines'),\n",
    "    box.padding=unit(3,'lines'),\n",
    "    box.margin=unit(2,'pt')\n",
    "  ) +\n",
    "  theme(\n",
    "    plot.background=element_rect(fill='cornsilk', color='grey')\n",
    "  )\n",
    "  \n",
    "# view the plot\n",
    "textplot\n",
    "\n",
    "# return font rendering to normal\n",
    "showtext_auto(F)"
   ],
   "metadata": {
    "cell_id": "fcaf127a57224bc38985240b95c75f62",
    "source_hash": "b5619fb5",
    "execution_start": 1682718955557,
    "execution_millis": 2702,
    "deepnote_app_coordinates": {
     "h": 3,
     "w": 12,
     "x": 0,
     "y": 484
    },
    "deepnote_to_be_reexecuted": false,
    "deepnote_cell_type": "code"
   },
   "outputs": [
    {
     "data": {
      "text/plain": "plot without title",
      "image/png": "[encoded data removed]"
     },
     "metadata": {
      "image/png": {
       "width": 840,
       "height": 840
      }
     },
     "output_type": "display_data"
    }
   ],
   "execution_count": 3
  },
  {
   "cell_type": "markdown",
   "source": [
    "# Building the slide layout"
   ],
   "metadata": {
    "cell_id": "431a1a4bbbc149679ca700a8b39fd5c7",
    "is_collapsed": false,
    "formattedRanges": [],
    "deepnote_app_coordinates": {
     "h": 5,
     "w": 12,
     "x": 0,
     "y": 488
    },
    "deepnote_cell_type": "text-cell-h1"
   }
  },
  {
   "cell_type": "markdown",
   "source": [
    "### Basic setup for Patchwork assembly"
   ],
   "metadata": {
    "cell_id": "534301d714734d96884d9ef1359889f0",
    "formattedRanges": [],
    "deepnote_app_coordinates": {
     "h": 5,
     "w": 12,
     "x": 0,
     "y": 494
    },
    "deepnote_cell_type": "text-cell-h3"
   }
  },
  {
   "cell_type": "markdown",
   "source": [
    "&nbsp;\n",
    "&nbsp;\n",
    "\n",
    "***NOTE:** The following few steps assume that previous code blocks have been run to create the plots stored in the variables named `chartplot` and `textplot`. The following code blocks will not run without these objects.*\n",
    "\n",
    "&nbsp;\n",
    "&nbsp;"
   ],
   "metadata": {
    "cell_id": "d493623e6a1e42299e02f3bb7a5bfcd6",
    "deepnote_app_coordinates": {
     "h": 5,
     "w": 12,
     "x": 0,
     "y": 0
    },
    "deepnote_cell_type": "markdown"
   }
  },
  {
   "cell_type": "markdown",
   "source": [
    "The library Patchwork uses the syntax of simple mathematic expressions to combine any number of plots into a single assembly. For example, chartplot + textplot will result in the two plots appearing side-by-side. "
   ],
   "metadata": {
    "cell_id": "ae358735e9be4bbb9d306321bec8c7fc",
    "formattedRanges": [
     {
      "url": "https://patchwork.data-imaginist.com/index.html",
      "type": "link",
      "ranges": [
       {
        "type": "marks",
        "marks": {
         "code": true
        },
        "toCodePoint": 9,
        "fromCodePoint": 0
       }
      ],
      "toCodePoint": 21,
      "fromCodePoint": 12
     },
     {
      "type": "marks",
      "marks": {
       "code": true
      },
      "toCodePoint": 159,
      "fromCodePoint": 139
     }
    ],
    "deepnote_app_coordinates": {
     "h": 2,
     "w": 8,
     "x": 0,
     "y": 500
    },
    "deepnote_cell_type": "text-cell-p"
   }
  },
  {
   "cell_type": "markdown",
   "source": [
    "At this point, it should be noted that the environment where R is running will contribute certain factors that impact the plotted result, primarily the ambient resolution(s) that figure into the calculated size of things. So, when the relative size of things becomes consequential—such as when combining multiple plots for a PowerPoint slide—it makes sense to use ggsave or dev (devices) to minimize the variability introduced by the environment. "
   ],
   "metadata": {
    "cell_id": "98f0fb9d-ca5d-4974-8838-4cd6e7d5111a",
    "formattedRanges": [
     {
      "url": "https://ggplot2.tidyverse.org/reference/ggsave.html",
      "type": "link",
      "ranges": [
       {
        "type": "marks",
        "marks": {
         "code": true
        },
        "toCodePoint": 6,
        "fromCodePoint": 0
       }
      ],
      "toCodePoint": 370,
      "fromCodePoint": 364
     },
     {
      "url": "https://cran.r-project.org/web/packages/R.devices/vignettes/R.devices-overview.pdf",
      "type": "link",
      "ranges": [
       {
        "type": "marks",
        "marks": {
         "code": true
        },
        "toCodePoint": 3,
        "fromCodePoint": 0
       }
      ],
      "toCodePoint": 377,
      "fromCodePoint": 374
     }
    ],
    "deepnote_app_coordinates": {
     "h": 2,
     "w": 8,
     "x": 0,
     "y": 500
    },
    "deepnote_cell_type": "text-cell-p"
   }
  },
  {
   "cell_type": "markdown",
   "source": [
    "It should also be noted that patchwork is not yet fully supported in the Deepnote environment, so the output file, combo.png will likely not render as expected (especially the fonts). These final few steps are best run within RStudio (from where the image shown after this code block was generated). "
   ],
   "metadata": {
    "cell_id": "8d4ff26b-7af3-402c-a5c5-d8440f600a33",
    "formattedRanges": [
     {
      "type": "marks",
      "marks": {
       "code": true
      },
      "toCodePoint": 38,
      "fromCodePoint": 29
     },
     {
      "type": "marks",
      "marks": {
       "code": true
      },
      "toCodePoint": 124,
      "fromCodePoint": 115
     }
    ],
    "deepnote_app_coordinates": {
     "h": 2,
     "w": 8,
     "x": 0,
     "y": 500
    },
    "deepnote_cell_type": "text-cell-p"
   }
  },
  {
   "cell_type": "code",
   "source": [
    "# NOTE: THIS BLOCK REQUIRES THE CODE ABOVE TO BE RUN\n",
    "\n",
    "# install.packages('showtext')\n",
    "# install.packages('ggtext')\n",
    "# install.packages('patchwork')\n",
    "\n",
    "library(showtext)\n",
    "library(ggtext)\n",
    "library(patchwork)\n",
    "library(ggplot2)\n",
    "\n",
    "heading <- 'The change of seasons is not date certain'\n",
    "copyright <- '&copy; 2023 Bill & Melinda Gates Foundation. All rights reserved.'\n",
    "\n",
    "# load the special fonts\n",
    "font_add_google(name='Playfair Display', family='playfair') \n",
    "font_add_google(name='IBM Plex Sans', family='plexsans',regular.wt=200)\n",
    "\n",
    "# give font rendering to showtext\n",
    "showtext_auto(T)\n",
    "\n",
    "combo <- chartplot + textplot \n",
    "\n",
    "ggsave(\n",
    "  filename = 'combo.png', \n",
    "  path = '/work/',\n",
    "  plot = combo,\n",
    "  device = png, \n",
    "  bg = 'white',\n",
    "  units = c('in'),\n",
    "  width = 16,\n",
    "  height = 9, \n",
    "  scale = 1, # +/- dimension\n",
    "  dpi = 180 # +/- resolution\n",
    ")\n",
    "\n",
    "# view the plot\n",
    "# combo\n",
    "\n",
    "# return font rendering to normal\n",
    "showtext_auto(F)\n"
   ],
   "metadata": {
    "cell_id": "cb546faadff6458d9a47813e8e003226",
    "source_hash": "9e0f9ce6",
    "output_cleared": false,
    "execution_start": 1682720962583,
    "execution_millis": 2070,
    "deepnote_app_coordinates": {
     "h": 26,
     "w": 12,
     "x": 0,
     "y": 503
    },
    "deepnote_to_be_reexecuted": false,
    "deepnote_cell_type": "code"
   },
   "outputs": [],
   "execution_count": 11
  },
  {
   "cell_type": "markdown",
   "source": [
    "![The chart + text assembly](/work/powerpoint_fig_03.png)"
   ],
   "metadata": {
    "cell_id": "359a27a45e3444e280c0d1c9a3a8d115",
    "deepnote_app_coordinates": {
     "h": 5,
     "w": 12,
     "x": 0,
     "y": 0
    },
    "deepnote_cell_type": "markdown"
   }
  },
  {
   "cell_type": "markdown",
   "source": [
    "# Final details"
   ],
   "metadata": {
    "cell_id": "63a1d400b6e7446da98b0d5d1419bab5",
    "is_collapsed": false,
    "formattedRanges": [],
    "deepnote_app_coordinates": {
     "h": 5,
     "w": 12,
     "x": 0,
     "y": 530
    },
    "deepnote_cell_type": "text-cell-h1"
   }
  },
  {
   "cell_type": "markdown",
   "source": [
    "### Placing an SVG logo"
   ],
   "metadata": {
    "cell_id": "4684877ed0714d91a9c18d5ad6712fbd",
    "formattedRanges": [],
    "deepnote_app_coordinates": {
     "h": 5,
     "w": 12,
     "x": 0,
     "y": 536
    },
    "deepnote_cell_type": "text-cell-h3"
   }
  },
  {
   "cell_type": "markdown",
   "source": [
    "A Scalable Vector Graphic SVG is an XML markup language that describes graphics with points and paths, affording them the ability to render in high quality at virtually any resolution. However, the SVG format is not natively supported in R, so an intermediary technology cairo is employed to transfer the graphic from its source to a format that can be plotted. This code describes the methodology of importing an SVG from and URL and then converting it to a local file to plot. "
   ],
   "metadata": {
    "cell_id": "aedc6e9991a34d19a318905dd194c412",
    "formattedRanges": [
     {
      "url": "https://developer.mozilla.org/en-US/docs/Web/SVG",
      "type": "link",
      "ranges": [],
      "toCodePoint": 25,
      "fromCodePoint": 2
     },
     {
      "type": "marks",
      "marks": {
       "code": true
      },
      "toCodePoint": 29,
      "fromCodePoint": 26
     },
     {
      "type": "marks",
      "marks": {
       "code": true
      },
      "toCodePoint": 39,
      "fromCodePoint": 36
     },
     {
      "type": "marks",
      "marks": {
       "code": true
      },
      "toCodePoint": 201,
      "fromCodePoint": 198
     },
     {
      "type": "marks",
      "marks": {
       "code": true
      },
      "toCodePoint": 239,
      "fromCodePoint": 238
     },
     {
      "url": "https://en.wikipedia.org/wiki/Cairo_(graphics)",
      "type": "link",
      "ranges": [
       {
        "type": "marks",
        "marks": {
         "code": true
        },
        "toCodePoint": 5,
        "fromCodePoint": 0
       }
      ],
      "toCodePoint": 276,
      "fromCodePoint": 271
     },
     {
      "type": "marks",
      "marks": {
       "code": true
      },
      "toCodePoint": 417,
      "fromCodePoint": 414
     },
     {
      "type": "marks",
      "marks": {
       "code": true
      },
      "toCodePoint": 430,
      "fromCodePoint": 427
     }
    ],
    "deepnote_app_coordinates": {
     "h": 2,
     "w": 8,
     "x": 0,
     "y": 542
    },
    "deepnote_cell_type": "text-cell-p"
   }
  },
  {
   "cell_type": "code",
   "source": [
    "# install.packages('magick')\n",
    "# install.packages('rsvg')\n",
    "\n",
    "library(magick)\n",
    "library(rsvg)\n",
    "\n",
    "logo_url <- 'https://comps.idmod.org/app/shell/img/logo/logo_IDM_horz1_RGB.svg'\n",
    "logo_file <- 'logo_cairo.svg'\n",
    "output_path <- '/work'\n",
    "\n",
    "# convert original svg to local cairo svg\n",
    "rsvg_svg(logo_url,paste(output_path,logo_file,sep='/'))\n",
    "\n",
    "# import the converted svg\n",
    "logo_svg <- image_read_svg(paste(output_path,logo_file,sep='/'))\n",
    "\n",
    "View(logo_svg)"
   ],
   "metadata": {
    "cell_id": "63bd343213b74c08aab10d6482975be4",
    "source_hash": "9309c326",
    "execution_start": 1682722861006,
    "execution_millis": 591,
    "deepnote_app_coordinates": {
     "h": 37,
     "w": 12,
     "x": 0,
     "y": 545
    },
    "deepnote_to_be_reexecuted": false,
    "deepnote_cell_type": "code"
   },
   "outputs": [
    {
     "data": {
      "image/png": "[encoded data removed]"
     },
     "metadata": {
      "image/png": {
       "width": 1043,
       "height": 182
      }
     },
     "output_type": "display_data"
    },
    {
     "data": {
      "text/plain": "\u001B[90m# A tibble: 1 × 7\u001B[39m\n  format width height colorspace matte filesize density\n  \u001B[3m\u001B[90m<chr>\u001B[39m\u001B[23m  \u001B[3m\u001B[90m<int>\u001B[39m\u001B[23m  \u001B[3m\u001B[90m<int>\u001B[39m\u001B[23m \u001B[3m\u001B[90m<chr>\u001B[39m\u001B[23m      \u001B[3m\u001B[90m<lgl>\u001B[39m\u001B[23m    \u001B[3m\u001B[90m<int>\u001B[39m\u001B[23m \u001B[3m\u001B[90m<chr>\u001B[39m\u001B[23m  \n\u001B[90m1\u001B[39m PNG     \u001B[4m1\u001B[24m043    182 sRGB       TRUE         0 72x72  "
     },
     "metadata": {},
     "output_type": "display_data"
    }
   ],
   "execution_count": 17
  },
  {
   "cell_type": "markdown",
   "source": [
    "### Preparing the logo assembly"
   ],
   "metadata": {
    "cell_id": "f4572da7db8e40798816799e8c10de6f",
    "formattedRanges": [],
    "deepnote_app_coordinates": {
     "h": 5,
     "w": 12,
     "x": 0,
     "y": 0
    },
    "deepnote_cell_type": "text-cell-h3"
   }
  },
  {
   "cell_type": "markdown",
   "source": [
    "The SVG logo will be combined with a copyright clause into a third plot for assembly with patchwork. The exact dimensions of this plot aren't required to know because it will stretch to fill the required space (which happens to be the total width of the chartplot and textplot placed side-by-side). Unfortunately, imported graphics—such as the SVG logo—may also stretch to fill available space, so it is important to set coord_fixed(1) on this plot so the SVG will maintain its original aspect ratio. "
   ],
   "metadata": {
    "cell_id": "5903c18a52324fc7a4d1b6b0c77069d9",
    "formattedRanges": [
     {
      "type": "marks",
      "marks": {
       "code": true
      },
      "toCodePoint": 7,
      "fromCodePoint": 4
     },
     {
      "type": "marks",
      "marks": {
       "code": true
      },
      "toCodePoint": 99,
      "fromCodePoint": 90
     },
     {
      "type": "marks",
      "marks": {
       "code": true
      },
      "toCodePoint": 263,
      "fromCodePoint": 254
     },
     {
      "type": "marks",
      "marks": {
       "code": true
      },
      "toCodePoint": 276,
      "fromCodePoint": 268
     },
     {
      "type": "marks",
      "marks": {
       "code": true
      },
      "toCodePoint": 347,
      "fromCodePoint": 344
     },
     {
      "type": "marks",
      "marks": {
       "code": true
      },
      "toCodePoint": 435,
      "fromCodePoint": 421
     },
     {
      "type": "marks",
      "marks": {
       "code": true
      },
      "toCodePoint": 459,
      "fromCodePoint": 456
     }
    ],
    "deepnote_app_coordinates": {
     "h": 2,
     "w": 8,
     "x": 0,
     "y": 0
    },
    "deepnote_cell_type": "text-cell-p"
   }
  },
  {
   "cell_type": "markdown",
   "source": [
    "- To Do: This ggplot already applies a theme that prepares it for the final assembly. Remove these stylings to reveal the axes and gridlines so that the underlying construction is evident. How might the SVG logo be made a little bigger?"
   ],
   "metadata": {
    "cell_id": "476d373de68f405c98814147a5517aa4",
    "formattedRanges": [
     {
      "type": "marks",
      "marks": {
       "bold": true
      },
      "toCodePoint": 7,
      "fromCodePoint": 0
     },
     {
      "type": "marks",
      "marks": {
       "code": true
      },
      "toCodePoint": 18,
      "fromCodePoint": 12
     },
     {
      "type": "marks",
      "marks": {
       "code": true
      },
      "toCodePoint": 42,
      "fromCodePoint": 37
     },
     {
      "type": "marks",
      "marks": {
       "code": true
      },
      "toCodePoint": 204,
      "fromCodePoint": 201
     }
    ],
    "deepnote_app_coordinates": {
     "h": 2,
     "w": 8,
     "x": 0,
     "y": 0
    },
    "deepnote_cell_type": "text-cell-bullet"
   }
  },
  {
   "cell_type": "code",
   "source": [
    "# NOTE: THIS BLOCK REQUIRES THE PREVIOUS CODE BLOCK TO BE RUN\n",
    "\n",
    "# install.packages('showtext')\n",
    "# install.packages('ggtext')\n",
    "\n",
    "library(showtext)\n",
    "library(ggtext)\n",
    "library(ggplot2)\n",
    "\n",
    "copyright <- '&copy; 2023 Bill & Melinda Gates Foundation. All rights reserved.'\n",
    "\n",
    "# create a simple space to plot the copyright and logo\n",
    "df <- data.frame(x=0:1,y=0:1)\n",
    "\n",
    "# load the special fonts\n",
    "font_add_google(name='Playfair Display', family='playfair') \n",
    "\n",
    "# give font rendering to showtext\n",
    "showtext_auto(T)\n",
    "\n",
    "# chart the copyright & logo\n",
    "tailplot <- ggplot(df) +\n",
    "  scale_x_continuous(\n",
    "    expand=c(0,0), \n",
    "    limits=c(0,3)) +\n",
    "  scale_y_continuous(\n",
    "    expand=c(0,0), \n",
    "    limits=c(0,.1)) +\n",
    "  coord_fixed(1) +\n",
    "  geom_richtext(\n",
    "    aes(x=0, y=.1/3, label=copyright, label.colour='transparent'), \n",
    "    hjust=0, \n",
    "    size=5,\n",
    "    family='playfair',\n",
    "    color='steelblue') +\n",
    "  annotation_raster(\n",
    "    logo_svg, \n",
    "    xmin=3-(5.699/10), \n",
    "    xmax=3, \n",
    "    ymin=0, \n",
    "    ymax=(1/10)\n",
    "  ) +\n",
    "  theme(\n",
    "    plot.margin=margin(0,0,0,0,'lines'),\n",
    "    plot.background=element_rect(fill='cornsilk', color='grey')\n",
    "  )\n",
    "\n",
    "# view the plot\n",
    "# tailplot\n",
    "\n",
    "# return font rendering to normal\n",
    "showtext_auto(F)"
   ],
   "metadata": {
    "cell_id": "8b7f09379e2548edb7d67f5788c85f21",
    "source_hash": "b78029eb",
    "output_cleared": true,
    "execution_start": 1682724198370,
    "execution_millis": 1233,
    "deepnote_app_coordinates": {
     "h": 5,
     "w": 12,
     "x": 0,
     "y": 0
    },
    "deepnote_to_be_reexecuted": false,
    "deepnote_cell_type": "code"
   },
   "outputs": [],
   "execution_count": 18
  },
  {
   "cell_type": "markdown",
   "source": [
    "![The chart + text assembly](/work/powerpoint_fig_04.png)"
   ],
   "metadata": {
    "cell_id": "9662146010ce4d6a86cacffed7eb40c0",
    "deepnote_app_coordinates": {
     "h": 5,
     "w": 12,
     "x": 0,
     "y": 0
    },
    "deepnote_cell_type": "markdown"
   }
  },
  {
   "cell_type": "markdown",
   "source": [
    "### Final Patchwork assembly"
   ],
   "metadata": {
    "cell_id": "d7ae38440aa04a19b17a101327fd0fa5",
    "formattedRanges": [],
    "deepnote_app_coordinates": {
     "h": 5,
     "w": 12,
     "x": 0,
     "y": 0
    },
    "deepnote_cell_type": "text-cell-h3"
   }
  },
  {
   "cell_type": "markdown",
   "source": [
    "Combining the chartplot with the textplot and the tailplot is accomplished by describing a layout to Patchwork. In this case, the chart and text will share one row of an assembly and the copyright and logo comprise a row below that. At this point, it is important to use a device or ggsave to prescribe the resolution required so that the theme(s) can be fine tuned to the end result. "
   ],
   "metadata": {
    "cell_id": "b6f75ba16166413f9c512971a7f8ea0a",
    "formattedRanges": [
     {
      "type": "marks",
      "marks": {
       "code": true
      },
      "toCodePoint": 23,
      "fromCodePoint": 14
     },
     {
      "type": "marks",
      "marks": {
       "code": true
      },
      "toCodePoint": 41,
      "fromCodePoint": 33
     },
     {
      "type": "marks",
      "marks": {
       "code": true
      },
      "toCodePoint": 58,
      "fromCodePoint": 50
     },
     {
      "type": "marks",
      "marks": {
       "code": true
      },
      "toCodePoint": 110,
      "fromCodePoint": 101
     },
     {
      "type": "marks",
      "marks": {
       "code": true
      },
      "toCodePoint": 279,
      "fromCodePoint": 273
     },
     {
      "type": "marks",
      "marks": {
       "code": true
      },
      "toCodePoint": 289,
      "fromCodePoint": 283
     }
    ],
    "deepnote_app_coordinates": {
     "h": 2,
     "w": 8,
     "x": 0,
     "y": 0
    },
    "deepnote_cell_type": "text-cell-p"
   }
  },
  {
   "cell_type": "markdown",
   "source": [
    "- To Do: This code generates a plot with plot.background and border color set to something that provides visibility to the boundaries of each component. How might these be set to white (and/or transparent) without re-plotting each component? The next step shows how. "
   ],
   "metadata": {
    "cell_id": "67814133f511430d8fc9df8edad14969",
    "formattedRanges": [
     {
      "type": "marks",
      "marks": {
       "bold": true
      },
      "toCodePoint": 6,
      "fromCodePoint": 0
     },
     {
      "type": "marks",
      "marks": {
       "code": true
      },
      "toCodePoint": 54,
      "fromCodePoint": 39
     },
     {
      "type": "marks",
      "marks": {
       "code": true
      },
      "toCodePoint": 65,
      "fromCodePoint": 59
     }
    ],
    "deepnote_app_coordinates": {
     "h": 2,
     "w": 8,
     "x": 0,
     "y": 0
    },
    "deepnote_cell_type": "text-cell-bullet"
   }
  },
  {
   "cell_type": "code",
   "source": [
    "# NOTE: THIS BLOCK REQUIRES THE CODE ABOVE TO BE RUN\n",
    "\n",
    "# install.packages('showtext')\n",
    "# install.packages('ggtext')\n",
    "# install.packages('patchwork')\n",
    "\n",
    "library(showtext)\n",
    "library(ggtext)\n",
    "library(patchwork)\n",
    "library(ggplot2)\n",
    "\n",
    "heading <- 'The change of seasons is not date certain'\n",
    "\n",
    "# load the special fonts\n",
    "font_add_google(name='Playfair Display', family='playfair') \n",
    "font_add_google(name='IBM Plex Sans', family='plexsans',regular.wt=200)\n",
    "\n",
    "# give font rendering to showtext\n",
    "showtext_auto(T)\n",
    "\n",
    "# prescribe the layout for the entire assembly\n",
    "layout <- '\n",
    "  112\n",
    "  333\n",
    "'\n",
    "\n",
    "# plot everything together\n",
    "combo <- chartplot + textplot + tailplot +\n",
    "  plot_layout(widths = 1, heights = c(1,.1), design = layout)\n",
    "\n",
    "\n",
    "# add the title and margins\n",
    "assembly <- combo + \n",
    "  plot_annotation(\n",
    "    title=heading,\n",
    "    theme=theme(\n",
    "      plot.title = element_markdown(family='playfair', size=40, color='steelblue'),\n",
    "      plot.margin=margin(c(1,3,3,3), unit='lines'),\n",
    "      plot.background=element_rect(fill='whitesmoke', color='transparent')\n",
    "    )\n",
    "  )\n",
    "\n",
    "# view the plot\n",
    "# assembly\n",
    "\n",
    "# output to the intended resolution\n",
    "ggsave(\n",
    "  filename = 'assembly.png', \n",
    "  path = '/work/',\n",
    "  plot = assembly,\n",
    "  device = png, \n",
    "  bg = 'white',\n",
    "  units = c('in'),\n",
    "  width = 16,\n",
    "  height = 9, \n",
    "  scale = 1, # +/- dimension\n",
    "  dpi = 180 # +/- resolution\n",
    ")\n",
    "\n",
    "\n",
    "# return font rendering to normal\n",
    "showtext_auto(F)"
   ],
   "metadata": {
    "cell_id": "118e64dd737b4443b8289441afed5802",
    "deepnote_app_coordinates": {
     "h": 5,
     "w": 12,
     "x": 0,
     "y": 0
    },
    "deepnote_cell_type": "code"
   },
   "outputs": [],
   "execution_count": null
  },
  {
   "cell_type": "markdown",
   "source": [
    "![The complete assembly](/work/powerpoint_fig_05.png)"
   ],
   "metadata": {
    "cell_id": "15dbe78f6b2149279c6168ee7790d6f8",
    "deepnote_app_coordinates": {
     "h": 5,
     "w": 12,
     "x": 0,
     "y": 0
    },
    "deepnote_cell_type": "markdown"
   }
  },
  {
   "cell_type": "markdown",
   "source": [
    "### Finished plot at a sufficient resolution"
   ],
   "metadata": {
    "cell_id": "5398f5fa28c64855b6e52898c9ac5385",
    "formattedRanges": [],
    "deepnote_app_coordinates": {
     "h": 5,
     "w": 12,
     "x": 0,
     "y": 583
    },
    "deepnote_cell_type": "text-cell-h3"
   }
  },
  {
   "cell_type": "markdown",
   "source": [
    "The following code describes the final assembly. First, the combo plot—comprised of the three component plots—is rerun to apply a new theme that sets the plot.background fill and color to white and transparent. Since this theme is applied lastly, it will override the themes set on the individual components (fills and colors that helped to show each plot's boundary).  "
   ],
   "metadata": {
    "cell_id": "abb1951b98044abb948de582660c7384",
    "formattedRanges": [
     {
      "type": "marks",
      "marks": {
       "code": true
      },
      "toCodePoint": 65,
      "fromCodePoint": 60
     },
     {
      "type": "marks",
      "marks": {
       "code": true
      },
      "toCodePoint": 139,
      "fromCodePoint": 134
     },
     {
      "type": "marks",
      "marks": {
       "code": true
      },
      "toCodePoint": 169,
      "fromCodePoint": 154
     }
    ],
    "deepnote_app_coordinates": {
     "h": 2,
     "w": 8,
     "x": 0,
     "y": 589
    },
    "deepnote_cell_type": "text-cell-p"
   }
  },
  {
   "cell_type": "markdown",
   "source": [
    "Note that the ggsave parameters of width=16 and height=9 establish the intended aspect ratio of 16:9, which so happens to be the same as a conventional PowerPoint slide deck. The scale and dpi settings then conspire to size the plot at a particular resolution. With the value, scale=1, the fonts, points, and lines will plot relatively consistent with their intent, but as this value is adjusted, their dimensions will likely fluctuate depending on theme settings. For instance, setting scale to greater than 1 can be useful to \"zoom\" into charted points, making them appear larger or more prominent relative to the other aspects of the chart, but then it may be necessary to fine tune other elements (such as text) to counter the higher scale being imposed. "
   ],
   "metadata": {
    "cell_id": "7b7665b4-ba64-4a9d-8d0a-6e2fa1f815cd",
    "formattedRanges": [
     {
      "type": "marks",
      "marks": {
       "code": true
      },
      "toCodePoint": 20,
      "fromCodePoint": 14
     },
     {
      "type": "marks",
      "marks": {
       "code": true
      },
      "toCodePoint": 43,
      "fromCodePoint": 35
     },
     {
      "type": "marks",
      "marks": {
       "code": true
      },
      "toCodePoint": 56,
      "fromCodePoint": 48
     },
     {
      "type": "marks",
      "marks": {
       "code": true
      },
      "toCodePoint": 184,
      "fromCodePoint": 179
     },
     {
      "type": "marks",
      "marks": {
       "code": true
      },
      "toCodePoint": 192,
      "fromCodePoint": 189
     },
     {
      "type": "marks",
      "marks": {
       "code": true
      },
      "toCodePoint": 284,
      "fromCodePoint": 277
     },
     {
      "type": "marks",
      "marks": {
       "code": true
      },
      "toCodePoint": 492,
      "fromCodePoint": 487
     },
     {
      "type": "marks",
      "marks": {
       "code": true
      },
      "toCodePoint": 510,
      "fromCodePoint": 509
     }
    ],
    "deepnote_app_coordinates": {
     "h": 2,
     "w": 8,
     "x": 0,
     "y": 589
    },
    "deepnote_cell_type": "text-cell-p"
   }
  },
  {
   "cell_type": "markdown",
   "source": [
    "- To Do: Adjust the values for scale and dpi to see what happens. PowerPoint slides can ultimately be displayed at a wide variety of sizes—even projected onto a large screen several feet wide—so, to guarantee there is always sufficient resolution, it's best if the plot placed into PowerPoint is oversized so that it must be scaled to 50% or less. This will provide detail necessary to render the slide to larger presentations. This code results in a 50% scale. How could it achieve 25%? "
   ],
   "metadata": {
    "cell_id": "f861f481a8aa4787b56f6291f822b964",
    "formattedRanges": [
     {
      "type": "marks",
      "marks": {
       "bold": true
      },
      "toCodePoint": 7,
      "fromCodePoint": 0
     },
     {
      "type": "marks",
      "marks": {
       "code": true
      },
      "toCodePoint": 34,
      "fromCodePoint": 29
     },
     {
      "type": "marks",
      "marks": {
       "code": true
      },
      "toCodePoint": 42,
      "fromCodePoint": 39
     }
    ],
    "deepnote_app_coordinates": {
     "h": 2,
     "w": 8,
     "x": 0,
     "y": 0
    },
    "deepnote_cell_type": "text-cell-bullet"
   }
  },
  {
   "cell_type": "code",
   "source": [
    "# NOTE: THIS BLOCK REQUIRES THE CODE ABOVE TO BE RUN\n",
    "\n",
    "# install.packages('showtext')\n",
    "# install.packages('ggtext')\n",
    "# install.packages('patchwork')\n",
    "\n",
    "library(showtext)\n",
    "library(ggtext)\n",
    "library(patchwork)\n",
    "library(ggplot2)\n",
    "\n",
    "heading <- 'The change of seasons is not date certain'\n",
    "\n",
    "# patchwork again but with a theme to cancel the background coloring\n",
    "combo <- chartplot + textplot + tailplot +\n",
    "  plot_layout(widths = 1, heights = c(1,.1), design = layout) &\n",
    "  theme(plot.background=element_rect(fill='white', color='transparent'))\n",
    "\n",
    "# redo the title but with a theme to cancel the background coloring\n",
    "slide <- combo + \n",
    "  plot_annotation(\n",
    "    title=heading,\n",
    "    theme=theme(\n",
    "      plot.title = element_markdown(family='playfair', size=40, color='steelblue'),\n",
    "      plot.margin=margin(c(40,60,40,60), unit='pt'),\n",
    "      plot.background=element_rect(fill='white', color='transparent')\n",
    "    )\n",
    "  )\n",
    "\n",
    "# view the plot\n",
    "# slide\n",
    "\n",
    "ggsave(\n",
    "  filename = 'assembly.png', \n",
    "  path = '/work/',\n",
    "  plot = slide,\n",
    "  device = png, \n",
    "  bg = 'white',\n",
    "  units = c('in'),\n",
    "  width = 16,\n",
    "  height = 9, \n",
    "  scale = 1, # +/- dimension\n",
    "  dpi = 180 # +/- resolution\n",
    ")\n",
    "\n",
    "# 2880 x 1624 pixels\n",
    "# The scale and dpi above combine to generate an image with the aspect ratio\n",
    "# of a PowerPoint slide and sufficient resolution to be placed at 50% scale,\n",
    "# resulting in crisp graphics during presentation at various dimensions "
   ],
   "metadata": {
    "cell_id": "4dd0cd6c2009486d9dc5013a0490b6ce",
    "deepnote_app_coordinates": {
     "h": 3,
     "w": 12,
     "x": 0,
     "y": 592
    },
    "deepnote_cell_type": "code"
   },
   "outputs": [],
   "execution_count": null
  },
  {
   "cell_type": "markdown",
   "source": [
    "![The finished plot](/work/powerpoint_fig_01.png)"
   ],
   "metadata": {
    "cell_id": "5a476735cd1c42919459d90fb752d2ef",
    "deepnote_app_coordinates": {
     "h": 5,
     "w": 12,
     "x": 0,
     "y": 0
    },
    "deepnote_cell_type": "markdown"
   }
  },
  {
   "cell_type": "markdown",
   "source": [
    "# Additional resources"
   ],
   "metadata": {
    "cell_id": "cb99d3df62bc4783af5a4da040b0d66b",
    "is_collapsed": false,
    "formattedRanges": [],
    "deepnote_cell_type": "text-cell-h1"
   }
  },
  {
   "cell_type": "markdown",
   "source": [
    "- The companion R script, github.com/ptrdo/hello-ggplot/layout/powerpoint.R"
   ],
   "metadata": {
    "cell_id": "a344284761bc43839b73a1d7397a1b8a",
    "formattedRanges": [
     {
      "type": "marks",
      "marks": {
       "code": true
      },
      "toCodePoint": 15,
      "fromCodePoint": 14
     },
     {
      "url": "https://github.com/ptrdo/hello-ggplot/blob/main/layout/powerpoint.R",
      "type": "link",
      "ranges": [],
      "toCodePoint": 73,
      "fromCodePoint": 24
     }
    ],
    "deepnote_app_coordinates": {
     "h": 2,
     "w": 8,
     "x": 0,
     "y": 602
    },
    "deepnote_cell_type": "text-cell-bullet"
   }
  },
  {
   "cell_type": "markdown",
   "source": [
    "- Related notebooks."
   ],
   "metadata": {
    "cell_id": "6972be17-07db-48dc-ae6f-1f237fd09bdc",
    "formattedRanges": [],
    "deepnote_app_coordinates": {
     "h": 2,
     "w": 8,
     "x": 0,
     "y": 602
    },
    "deepnote_cell_type": "text-cell-bullet"
   }
  },
  {
   "cell_type": "markdown",
   "source": [
    "- Additional information about fonts."
   ],
   "metadata": {
    "cell_id": "a0311489-d5e4-4cc9-acc0-f331ecc14a8a",
    "formattedRanges": [],
    "deepnote_app_coordinates": {
     "h": 2,
     "w": 8,
     "x": 0,
     "y": 605
    },
    "deepnote_cell_type": "text-cell-bullet"
   }
  },
  {
   "cell_type": "markdown",
   "source": [
    "- Further explanation about resolution. "
   ],
   "metadata": {
    "cell_id": "6d856dd9-86e7-47cc-baf9-7937a27df7fd",
    "formattedRanges": [],
    "deepnote_app_coordinates": {
     "h": 2,
     "w": 8,
     "x": 0,
     "y": 608
    },
    "deepnote_cell_type": "text-cell-bullet"
   }
  },
  {
   "cell_type": "markdown",
   "source": [
    "<a style='text-decoration:none;line-height:16px;display:flex;color:#5B5B62;padding:10px;justify-content:end;' href='https://deepnote.com?utm_source=created-in-deepnote-cell&projectId=82383a2c-6fa0-4827-a165-fc12a03e17b5' target=\"_blank\">\n",
    "<img alt='Created in deepnote.com' style='display:inline;max-height:16px;margin:0px;margin-right:7.5px;' src='data:image/svg+xml;base64,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' > </img>\n",
    "Created in <span style='font-weight:600;margin-left:4px;'>Deepnote</span></a>"
   ],
   "metadata": {
    "created_in_deepnote_cell": true,
    "deepnote_cell_type": "markdown"
   }
  }
 ],
 "nbformat": 4,
 "nbformat_minor": 0,
 "metadata": {
  "deepnote": {},
  "orig_nbformat": 2,
  "deepnote_app_layout": "article",
  "deepnote_notebook_id": "4af894cc35fd4a03ba33e96a07138125",
  "deepnote_execution_queue": []
 }
}
